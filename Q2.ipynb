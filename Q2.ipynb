{
 "cells": [
  {
   "cell_type": "code",
   "execution_count": 21,
   "metadata": {},
   "outputs": [
    {
     "name": "stdout",
     "output_type": "stream",
     "text": [
      "[[10, 20], [30, 40], [50, 60]]\n"
     ]
    }
   ],
   "source": [
    "input = [[1,2], [3,4],[5,6]]\n",
    "# b = (input)\n",
    "output = [j*10 for i in input for j in i ]\n",
    "newoutput = []\n",
    "a = 0\n",
    "b = 2\n",
    "for i in range(0,3):\n",
    "    if i>0:\n",
    "        a = b\n",
    "        b = b + 2\n",
    "        z = output[a:b]\n",
    "        newoutput.append(z)\n",
    "    else:\n",
    "        c = output[a:b]\n",
    "        newoutput.append(c)\n",
    "print(newoutput)\n",
    "# print(ou)\n",
    "# print(input[0][1])"
   ]
  }
 ],
 "metadata": {
  "kernelspec": {
   "display_name": "Python 3",
   "language": "python",
   "name": "python3"
  },
  "language_info": {
   "codemirror_mode": {
    "name": "ipython",
    "version": 3
   },
   "file_extension": ".py",
   "mimetype": "text/x-python",
   "name": "python",
   "nbconvert_exporter": "python",
   "pygments_lexer": "ipython3",
   "version": "3.6.5"
  }
 },
 "nbformat": 4,
 "nbformat_minor": 2
}
